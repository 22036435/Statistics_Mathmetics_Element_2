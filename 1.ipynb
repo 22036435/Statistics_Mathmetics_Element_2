{
 "cells": [
  {
   "cell_type": "raw",
   "id": "8b63b4d9-13af-4810-9cb7-0da2ed002613",
   "metadata": {},
   "source": [
    "(a) Perform a series of correlations on the above (fictitious) data."
   ]
  },
  {
   "cell_type": "code",
   "execution_count": 1,
   "id": "fbaa4e44-97ec-4533-b13e-e5f3307ea6f0",
   "metadata": {},
   "outputs": [
    {
     "name": "stdout",
     "output_type": "stream",
     "text": [
      "Correlation between Memory and Anxiety: 0.63\n",
      "Correlation between Memory and Depression: 0.93\n",
      "Correlation between Memory and Self-Esteem: -0.79\n",
      "Correlation between Anxiety and Memory: 0.63\n",
      "Correlation between Anxiety and Depression: 0.62\n",
      "Correlation between Anxiety and Self-Esteem: -0.68\n",
      "Correlation between Depression and Memory: 0.93\n",
      "Correlation between Depression and Anxiety: 0.62\n",
      "Correlation between Depression and Self-Esteem: -0.75\n",
      "Correlation between Self-Esteem and Memory: -0.79\n",
      "Correlation between Self-Esteem and Anxiety: -0.68\n",
      "Correlation between Self-Esteem and Depression: -0.75\n"
     ]
    }
   ],
   "source": [
    "import pandas as pd\n",
    "from scipy.stats import pearsonr\n",
    "\n",
    "data = {\n",
    "    'Memory': [5, 5, 6, 6, 7, 7, 7, 8, 9, 9, 10, 4, 11, 13, 13, 13, 16, 16, 19, 20],\n",
    "    'Anxiety': [20, 21, 24, 32, 32, 21, 45, 45, 31, 22, 44, 45, 46, 49, 45, 60, 56, 57, 48, 41],\n",
    "    'Depression': [0, 0, 0, 1, 1, 1, 3, 3, 5, 8, 6, 6, 7, 8, 10, 16, 20, 13, 28, 24],\n",
    "    'Self-Esteem': [16, 15, 19, 18, 17, 18, 16, 10, 15, 15, 14, 13, 15, 12, 10, 9, 2, 2, 12, 1]\n",
    "}\n",
    "\n",
    "df = pd.DataFrame(data)\n",
    "\n",
    "for col1 in df.columns:\n",
    "    for col2 in df.columns:\n",
    "        if col1 != col2:\n",
    "            corr, _ = pearsonr(df[col1], df[col2])\n",
    "            print(f\"Correlation between {col1} and {col2}: {corr:.2f}\")"
   ]
  },
  {
   "cell_type": "raw",
   "id": "857b603a-11ac-4d82-9ba7-40c70a105303",
   "metadata": {},
   "source": [
    "This script uses Pearson's correlation, which is suitable for linear relationships."
   ]
  },
  {
   "cell_type": "raw",
   "id": "40073148-fe1c-4b89-829f-b9c05e9301c5",
   "metadata": {},
   "source": [
    "(b) Demonstrate through multiple regression to examine the\n",
    "contribution of each independent variable to the prediction of Memory Bias. Also report how much of the variance is accounted for by the regression equation?"
   ]
  },
  {
   "cell_type": "code",
   "execution_count": 3,
   "id": "413f18b3-a3dc-4e58-8dc2-42ab74bbaf05",
   "metadata": {},
   "outputs": [
    {
     "name": "stdout",
     "output_type": "stream",
     "text": [
      "                            OLS Regression Results                            \n",
      "==============================================================================\n",
      "Dep. Variable:                 Memory   R-squared:                       0.877\n",
      "Model:                            OLS   Adj. R-squared:                  0.854\n",
      "Method:                 Least Squares   F-statistic:                     38.11\n",
      "Date:                Mon, 04 Dec 2023   Prob (F-statistic):           1.63e-07\n",
      "Time:                        17:05:55   Log-Likelihood:                -38.112\n",
      "No. Observations:                  20   AIC:                             84.22\n",
      "Df Residuals:                      16   BIC:                             88.21\n",
      "Df Model:                           3                                         \n",
      "Covariance Type:            nonrobust                                         \n",
      "===============================================================================\n",
      "                  coef    std err          t      P>|t|      [0.025      0.975]\n",
      "-------------------------------------------------------------------------------\n",
      "const           8.7238      3.027      2.882      0.011       2.307      15.141\n",
      "Anxiety         0.0061      0.046      0.135      0.894      -0.090       0.103\n",
      "Depression      0.4383      0.078      5.612      0.000       0.273       0.604\n",
      "Self-Esteem    -0.1824      0.127     -1.431      0.172      -0.453       0.088\n",
      "==============================================================================\n",
      "Omnibus:                       14.465   Durbin-Watson:                   2.292\n",
      "Prob(Omnibus):                  0.001   Jarque-Bera (JB):               14.318\n",
      "Skew:                          -1.405   Prob(JB):                     0.000778\n",
      "Kurtosis:                       6.048   Cond. No.                         324.\n",
      "==============================================================================\n",
      "\n",
      "Notes:\n",
      "[1] Standard Errors assume that the covariance matrix of the errors is correctly specified.\n"
     ]
    }
   ],
   "source": [
    "import statsmodels.api as sm\n",
    "\n",
    "X = df[['Anxiety', 'Depression', 'Self-Esteem']]\n",
    "y = df['Memory']\n",
    "\n",
    "X = sm.add_constant(X)\n",
    "\n",
    "model = sm.OLS(y, X).fit()\n",
    "\n",
    "print(model.summary())"
   ]
  },
  {
   "cell_type": "raw",
   "id": "b14bbb34-8353-4548-a9db-d0a6f93fe214",
   "metadata": {},
   "source": [
    "(c) Based on the above analysis, what would be the predicted value of Memory Bias for a person with an Anxiety score of 44, a Depression score of 13 and a Self-Esteem score of 12?"
   ]
  },
  {
   "cell_type": "raw",
   "id": "d345cb6a-370d-4a48-a282-615c83461286",
   "metadata": {},
   "source": [
    "To predict the value of Memory Bias based on the regression model, I can use the coefficients obtained from the model and plug in the values for Anxiety, Depression, and Self-Esteem of the individual. \n",
    "\n",
    "The regression equation:\n",
    "Memory Bias=(coefficient of Anxiety×Anxiety score)+(coefficient of Depression×Depression score)+(coefficient of Self-Esteem×Self-Esteem score)+constant\n",
    "\n",
    "From output:\n",
    "Constant (intercept) = 8.7238\n",
    "Coefficient of Anxiety = 0.0061\n",
    "Coefficient of Depression = 0.4383\n",
    "Coefficient of Self-Esteem = -0.1824\n",
    "\n",
    "Given the scores:\n",
    "Anxiety = 44\n",
    "Depression = 13\n",
    "Self-Esteem = 12\n",
    "\n",
    "Plugging these into the regression equation:\n",
    "Memory Bias=(0.0061×44)+(0.4383×13)+(−0.1824×12)+8.7238\n",
    "Memory Bias=(0.2684)+(5.6979)+(−2.1888)+8.7238\n",
    "Memory Bias=12.5013\n",
    "\n",
    "So, the predicted Memory Bias score for a person with an Anxiety score of 44, a Depression score of 13, and a Self-Esteem score of 12 is approximately 12.5."
   ]
  },
  {
   "cell_type": "code",
   "execution_count": 4,
   "id": "84a28d92-5b18-46e2-82f4-76b4d3a7f65d",
   "metadata": {},
   "outputs": [
    {
     "name": "stdout",
     "output_type": "stream",
     "text": [
      "The predicted Memory Bias score is: 12.50\n"
     ]
    }
   ],
   "source": [
    "intercept = 8.7238\n",
    "coef_anxiety = 0.0061\n",
    "coef_depression = 0.4383\n",
    "coef_self_esteem = -0.1824\n",
    "\n",
    "anxiety_score = 44\n",
    "depression_score = 13\n",
    "self_esteem_score = 12\n",
    "\n",
    "predicted_memory_bias = (coef_anxiety * anxiety_score) + \\\n",
    "                        (coef_depression * depression_score) + \\\n",
    "                        (coef_self_esteem * self_esteem_score) + \\\n",
    "                        intercept\n",
    "\n",
    "print(f\"The predicted Memory Bias score is: {predicted_memory_bias:.2f}\")"
   ]
  },
  {
   "cell_type": "raw",
   "id": "357eb38d-7873-4ccb-98f1-caee6370e428",
   "metadata": {},
   "source": [
    "(d) Using the same data, perform a multiple regression to determine the best predictor of Memory Bias."
   ]
  },
  {
   "cell_type": "raw",
   "id": "ea56da5e-8b54-4e92-9202-75bfde9aaa60",
   "metadata": {},
   "source": [
    "To determine the best predictor of Memory Bias using multiple regression, I need to analyze the significance of each predictor in the model. The 'best' predictor is typically the one with the most significant statistical impact on the dependent variable. Based on the OLS regression output, I can evaluate which independent variable (Anxiety, Depression, or Self-Esteem) is the best predictor for Memory Bias.\n",
    "\n",
    "Coefficient (coef): Indicates the change in the dependent variable for a one-unit change in the predictor, all else being equal.\n",
    "\n",
    "Standard Error (std err): Reflects the level of accuracy of the coefficient.\n",
    "\n",
    "t-value: The coefficient divided by its standard error. It tests the null hypothesis that the coefficient equals zero (no effect).\n",
    "\n",
    "P-value (P>|t|): Shows the probability that the coefficient is different from zero in the population. A lower p-value suggests the predictor is significant.\n",
    "\n",
    "From regression output:\n",
    "\n",
    "Anxiety\n",
    "Coefficient: 0.0061\n",
    "P-value: 0.894\n",
    "\n",
    "Depression\n",
    "Coefficient: 0.4383\n",
    "P-value: 0.000\n",
    "\n",
    "Self-Esteem\n",
    "Coefficient: -0.1824\n",
    "P-value: 0.172\n",
    "\n",
    "Based on these values, Depression appears to be the best predictor of Memory Bias in this model. It has the highest coefficient absolute value and the lowest p-value, indicating its significant influence on Memory Bias."
   ]
  },
  {
   "cell_type": "code",
   "execution_count": 5,
   "id": "51a23710-0e8b-42eb-8e3e-1b645cc6b8e9",
   "metadata": {},
   "outputs": [
    {
     "name": "stdout",
     "output_type": "stream",
     "text": [
      "                            OLS Regression Results                            \n",
      "==============================================================================\n",
      "Dep. Variable:                 Memory   R-squared:                       0.877\n",
      "Model:                            OLS   Adj. R-squared:                  0.854\n",
      "Method:                 Least Squares   F-statistic:                     38.11\n",
      "Date:                Mon, 04 Dec 2023   Prob (F-statistic):           1.63e-07\n",
      "Time:                        17:13:55   Log-Likelihood:                -38.112\n",
      "No. Observations:                  20   AIC:                             84.22\n",
      "Df Residuals:                      16   BIC:                             88.21\n",
      "Df Model:                           3                                         \n",
      "Covariance Type:            nonrobust                                         \n",
      "==============================================================================\n",
      "                 coef    std err          t      P>|t|      [0.025      0.975]\n",
      "------------------------------------------------------------------------------\n",
      "const         10.2000      0.407     25.079      0.000       9.338      11.062\n",
      "x1             0.0769      0.571      0.135      0.894      -1.133       1.287\n",
      "x2             3.5337      0.630      5.612      0.000       2.199       4.869\n",
      "x3            -0.9591      0.670     -1.431      0.172      -2.380       0.462\n",
      "==============================================================================\n",
      "Omnibus:                       14.465   Durbin-Watson:                   2.292\n",
      "Prob(Omnibus):                  0.001   Jarque-Bera (JB):               14.318\n",
      "Skew:                          -1.405   Prob(JB):                     0.000778\n",
      "Kurtosis:                       6.048   Cond. No.                         3.11\n",
      "==============================================================================\n",
      "\n",
      "Notes:\n",
      "[1] Standard Errors assume that the covariance matrix of the errors is correctly specified.\n"
     ]
    }
   ],
   "source": [
    "from sklearn.preprocessing import StandardScaler\n",
    "\n",
    "X = df[['Anxiety', 'Depression', 'Self-Esteem']]\n",
    "y = df['Memory']\n",
    "\n",
    "scaler = StandardScaler()\n",
    "X_scaled = scaler.fit_transform(X)\n",
    "\n",
    "X_scaled = sm.add_constant(X_scaled)\n",
    "\n",
    "model = sm.OLS(y, X_scaled).fit()\n",
    "\n",
    "print(model.summary())"
   ]
  },
  {
   "cell_type": "raw",
   "id": "3666707c-8a5b-47af-bc7e-aedc9c0c126d",
   "metadata": {},
   "source": [
    "(e) Using the same data, perform a multiple regression to test the idea that Anxiety is the salient predictor of Memory Bias. Enter Anxiety on the first step, and Depression and Self-Esteem on the second."
   ]
  },
  {
   "cell_type": "code",
   "execution_count": 6,
   "id": "63025dc8-e2c3-4dcc-baa6-44aa0baf6fe9",
   "metadata": {},
   "outputs": [
    {
     "name": "stdout",
     "output_type": "stream",
     "text": [
      "Regression with Anxiety only:\n",
      "                            OLS Regression Results                            \n",
      "==============================================================================\n",
      "Dep. Variable:                 Memory   R-squared:                       0.399\n",
      "Model:                            OLS   Adj. R-squared:                  0.366\n",
      "Method:                 Least Squares   F-statistic:                     11.95\n",
      "Date:                Mon, 04 Dec 2023   Prob (F-statistic):            0.00281\n",
      "Time:                        17:15:28   Log-Likelihood:                -53.995\n",
      "No. Observations:                  20   AIC:                             112.0\n",
      "Df Residuals:                      18   BIC:                             114.0\n",
      "Df Model:                           1                                         \n",
      "Covariance Type:            nonrobust                                         \n",
      "==============================================================================\n",
      "                 coef    std err          t      P>|t|      [0.025      0.975]\n",
      "------------------------------------------------------------------------------\n",
      "const          1.0252      2.786      0.368      0.717      -4.828       6.878\n",
      "Anxiety        0.2341      0.068      3.457      0.003       0.092       0.376\n",
      "==============================================================================\n",
      "Omnibus:                        4.395   Durbin-Watson:                   0.895\n",
      "Prob(Omnibus):                  0.111   Jarque-Bera (JB):                2.259\n",
      "Skew:                           0.606   Prob(JB):                        0.323\n",
      "Kurtosis:                       4.114   Cond. No.                         135.\n",
      "==============================================================================\n",
      "\n",
      "Notes:\n",
      "[1] Standard Errors assume that the covariance matrix of the errors is correctly specified.\n",
      "\n",
      "Regression with Anxiety, Depression, and Self-Esteem:\n",
      "                            OLS Regression Results                            \n",
      "==============================================================================\n",
      "Dep. Variable:                 Memory   R-squared:                       0.877\n",
      "Model:                            OLS   Adj. R-squared:                  0.854\n",
      "Method:                 Least Squares   F-statistic:                     38.11\n",
      "Date:                Mon, 04 Dec 2023   Prob (F-statistic):           1.63e-07\n",
      "Time:                        17:15:28   Log-Likelihood:                -38.112\n",
      "No. Observations:                  20   AIC:                             84.22\n",
      "Df Residuals:                      16   BIC:                             88.21\n",
      "Df Model:                           3                                         \n",
      "Covariance Type:            nonrobust                                         \n",
      "===============================================================================\n",
      "                  coef    std err          t      P>|t|      [0.025      0.975]\n",
      "-------------------------------------------------------------------------------\n",
      "const           8.7238      3.027      2.882      0.011       2.307      15.141\n",
      "Anxiety         0.0061      0.046      0.135      0.894      -0.090       0.103\n",
      "Depression      0.4383      0.078      5.612      0.000       0.273       0.604\n",
      "Self-Esteem    -0.1824      0.127     -1.431      0.172      -0.453       0.088\n",
      "==============================================================================\n",
      "Omnibus:                       14.465   Durbin-Watson:                   2.292\n",
      "Prob(Omnibus):                  0.001   Jarque-Bera (JB):               14.318\n",
      "Skew:                          -1.405   Prob(JB):                     0.000778\n",
      "Kurtosis:                       6.048   Cond. No.                         324.\n",
      "==============================================================================\n",
      "\n",
      "Notes:\n",
      "[1] Standard Errors assume that the covariance matrix of the errors is correctly specified.\n"
     ]
    }
   ],
   "source": [
    "X1 = df[['Anxiety']]\n",
    "X1 = sm.add_constant(X1)\n",
    "model1 = sm.OLS(df['Memory'], X1).fit()\n",
    "print(\"Regression with Anxiety only:\")\n",
    "print(model1.summary())\n",
    "\n",
    "X2 = df[['Anxiety', 'Depression', 'Self-Esteem']]\n",
    "X2 = sm.add_constant(X2)\n",
    "model2 = sm.OLS(df['Memory'], X2).fit()\n",
    "print(\"\\nRegression with Anxiety, Depression, and Self-Esteem:\")\n",
    "print(model2.summary())"
   ]
  },
  {
   "cell_type": "markdown",
   "id": "968f2840-4a24-4330-8061-6bd26cfbe3d2",
   "metadata": {},
   "source": [
    "#### Stage 1: Impact of Anxiety on Memory Bias"
   ]
  },
  {
   "cell_type": "raw",
   "id": "dedb06f9-edb5-4b34-8448-a7721345ec73",
   "metadata": {},
   "source": [
    "Model Fit: The R-squared value is 0.399, indicating that approximately 39.9% of the variance in Memory Bias is explained by Anxiety alone. This suggests a moderate level of explanatory power of Anxiety on Memory Bias in this model.\n",
    "Coefficient for Anxiety: The coefficient for Anxiety is 0.2341, with a standard error of 0.068. This means for each unit increase in Anxiety, Memory Bias increases by approximately 0.2341 units, holding other factors constant.\n",
    "Statistical Significance: The p-value for Anxiety is 0.003, which is less than the conventional alpha level of 0.05. This indicates that the effect of Anxiety on Memory Bias is statistically significant in this model.\n",
    "Intercept: The constant coefficient is 1.0252, but it is not statistically significant (p = 0.717)."
   ]
  },
  {
   "cell_type": "markdown",
   "id": "c849f702-741b-4c5b-97e9-a4b9c335e8d7",
   "metadata": {},
   "source": [
    "#### Stage 2: Adding Depression and Self-Esteem to the Model"
   ]
  },
  {
   "cell_type": "raw",
   "id": "98c66f25-75b4-4133-b5b4-f5e83a0d870e",
   "metadata": {},
   "source": [
    "Model Fit: The R-squared value has increased to 0.877, showing that 87.7% of the variance in Memory Bias is now explained by the model, which includes Anxiety, Depression, and Self-Esteem. This significant increase suggests that Depression and Self-Esteem together add substantial explanatory power.\n",
    "Coefficients:\n",
    "Anxiety: The coefficient is now 0.0061, with a p-value of 0.894, indicating that Anxiety's impact is no longer statistically significant when Depression and Self-Esteem are considered.\n",
    "Depression: The coefficient is 0.4383, and it is statistically significant (p < 0.001), indicating a strong positive effect on Memory Bias.\n",
    "Self-Esteem: The coefficient is -0.1824, but it is not statistically significant (p = 0.172), suggesting that its impact on Memory Bias is not clear in this model.\n",
    "Intercept: The constant coefficient is 8.7238 and is statistically significant (p = 0.011)."
   ]
  },
  {
   "cell_type": "markdown",
   "id": "d386c179-eb4f-4d39-a538-7fb19465da27",
   "metadata": {},
   "source": [
    "#### Conclusion"
   ]
  },
  {
   "cell_type": "raw",
   "id": "71d2d2ea-4341-4396-857c-cd7d3afbc35b",
   "metadata": {},
   "source": [
    "The analysis suggests that while Anxiety appears to have a significant effect on Memory Bias when considered alone, its impact diminishes and becomes statistically insignificant when Depression and Self-Esteem are added to the model.\n",
    "Depression emerges as a strong and significant predictor of Memory Bias, overshadowing the effects of Anxiety and Self-Esteem in this model.\n",
    "These results indicate that while Anxiety might initially seem like an important factor in Memory Bias, it is Depression that plays a more crucial role when considering these variables together."
   ]
  }
 ],
 "metadata": {
  "kernelspec": {
   "display_name": "Python 3 (ipykernel)",
   "language": "python",
   "name": "python3"
  },
  "language_info": {
   "codemirror_mode": {
    "name": "ipython",
    "version": 3
   },
   "file_extension": ".py",
   "mimetype": "text/x-python",
   "name": "python",
   "nbconvert_exporter": "python",
   "pygments_lexer": "ipython3",
   "version": "3.11.5"
  }
 },
 "nbformat": 4,
 "nbformat_minor": 5
}
